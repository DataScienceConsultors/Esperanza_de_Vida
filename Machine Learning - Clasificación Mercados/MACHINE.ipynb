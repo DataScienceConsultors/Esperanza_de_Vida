{
 "cells": [
  {
   "cell_type": "markdown",
   "metadata": {},
   "source": [
    "EXTRACCION DE DATOS"
   ]
  },
  {
   "cell_type": "markdown",
   "metadata": {},
   "source": [
    "nos ayudara a clasificar  los paises donde son factibles   establecer la venta del producto o no "
   ]
  },
  {
   "cell_type": "code",
   "execution_count": 154,
   "metadata": {},
   "outputs": [
    {
     "data": {
      "text/html": [
       "<div>\n",
       "<style scoped>\n",
       "    .dataframe tbody tr th:only-of-type {\n",
       "        vertical-align: middle;\n",
       "    }\n",
       "\n",
       "    .dataframe tbody tr th {\n",
       "        vertical-align: top;\n",
       "    }\n",
       "\n",
       "    .dataframe thead th {\n",
       "        text-align: right;\n",
       "    }\n",
       "</style>\n",
       "<table border=\"1\" class=\"dataframe\">\n",
       "  <thead>\n",
       "    <tr style=\"text-align: right;\">\n",
       "      <th></th>\n",
       "      <th>pais</th>\n",
       "      <th>continentes</th>\n",
       "      <th>country</th>\n",
       "      <th>year</th>\n",
       "      <th>Desempleo_mujeres</th>\n",
       "      <th>Desempleo_mujeres_jóvenes_14_24_años</th>\n",
       "      <th>Desempleo_varones_jovenes_15_24_años</th>\n",
       "      <th>Desempleo_Población_activa_total</th>\n",
       "      <th>esperanza_vida_nacer_Mujeres</th>\n",
       "      <th>esperanza_vida_nacer_Varones</th>\n",
       "      <th>...</th>\n",
       "      <th>tasa_mort_5anios_cada_mil</th>\n",
       "      <th>crecimiento_poblacion</th>\n",
       "      <th>Tasa_fertilidad_mujeres</th>\n",
       "      <th>PBI_per_capita</th>\n",
       "      <th>desempleo_total</th>\n",
       "      <th>mortalidad_accidentes_transito</th>\n",
       "      <th>acceso_a_la_electricidad</th>\n",
       "      <th>Inscripción_escolar_nivel_primario</th>\n",
       "      <th>Inscripción_escolar_nivel_secundaria</th>\n",
       "      <th>inscripciones_nivel_terciario</th>\n",
       "    </tr>\n",
       "  </thead>\n",
       "  <tbody>\n",
       "    <tr>\n",
       "      <th>0</th>\n",
       "      <td>Zimbabwe</td>\n",
       "      <td>Africa</td>\n",
       "      <td>19</td>\n",
       "      <td>2020</td>\n",
       "      <td>8.774</td>\n",
       "      <td>18.101999</td>\n",
       "      <td>18.070999</td>\n",
       "      <td>13415460.0</td>\n",
       "      <td>64.383</td>\n",
       "      <td>58.744</td>\n",
       "      <td>...</td>\n",
       "      <td>71.5</td>\n",
       "      <td>3.218530</td>\n",
       "      <td>142.8220</td>\n",
       "      <td>1631.431691</td>\n",
       "      <td>8.333</td>\n",
       "      <td>26.1</td>\n",
       "      <td>312.228895</td>\n",
       "      <td>103.607564</td>\n",
       "      <td>88.625146</td>\n",
       "      <td>3.249986</td>\n",
       "    </tr>\n",
       "    <tr>\n",
       "      <th>1</th>\n",
       "      <td>Zimbabwe</td>\n",
       "      <td>Africa</td>\n",
       "      <td>19</td>\n",
       "      <td>2019</td>\n",
       "      <td>7.835</td>\n",
       "      <td>16.665001</td>\n",
       "      <td>16.554001</td>\n",
       "      <td>13116712.0</td>\n",
       "      <td>64.039</td>\n",
       "      <td>58.416</td>\n",
       "      <td>...</td>\n",
       "      <td>74.2</td>\n",
       "      <td>3.242914</td>\n",
       "      <td>145.3900</td>\n",
       "      <td>2177.799015</td>\n",
       "      <td>7.421</td>\n",
       "      <td>26.1</td>\n",
       "      <td>312.228895</td>\n",
       "      <td>103.607564</td>\n",
       "      <td>88.625146</td>\n",
       "      <td>3.249986</td>\n",
       "    </tr>\n",
       "    <tr>\n",
       "      <th>2</th>\n",
       "      <td>Zimbabwe</td>\n",
       "      <td>Africa</td>\n",
       "      <td>19</td>\n",
       "      <td>2018</td>\n",
       "      <td>7.829</td>\n",
       "      <td>16.693001</td>\n",
       "      <td>16.613001</td>\n",
       "      <td>12659938.0</td>\n",
       "      <td>63.666</td>\n",
       "      <td>58.064</td>\n",
       "      <td>...</td>\n",
       "      <td>77.3</td>\n",
       "      <td>3.276145</td>\n",
       "      <td>147.9580</td>\n",
       "      <td>2524.942483</td>\n",
       "      <td>7.421</td>\n",
       "      <td>26.0</td>\n",
       "      <td>312.228895</td>\n",
       "      <td>103.607564</td>\n",
       "      <td>88.625146</td>\n",
       "      <td>3.249986</td>\n",
       "    </tr>\n",
       "    <tr>\n",
       "      <th>3</th>\n",
       "      <td>Zimbabwe</td>\n",
       "      <td>Africa</td>\n",
       "      <td>19</td>\n",
       "      <td>2017</td>\n",
       "      <td>7.810</td>\n",
       "      <td>16.695000</td>\n",
       "      <td>16.646999</td>\n",
       "      <td>12223456.0</td>\n",
       "      <td>63.252</td>\n",
       "      <td>57.677</td>\n",
       "      <td>...</td>\n",
       "      <td>80.6</td>\n",
       "      <td>3.322158</td>\n",
       "      <td>150.5260</td>\n",
       "      <td>2313.220584</td>\n",
       "      <td>7.408</td>\n",
       "      <td>25.5</td>\n",
       "      <td>312.228895</td>\n",
       "      <td>103.607564</td>\n",
       "      <td>88.625146</td>\n",
       "      <td>3.249986</td>\n",
       "    </tr>\n",
       "    <tr>\n",
       "      <th>4</th>\n",
       "      <td>Zimbabwe</td>\n",
       "      <td>Africa</td>\n",
       "      <td>19</td>\n",
       "      <td>2016</td>\n",
       "      <td>7.807</td>\n",
       "      <td>16.726000</td>\n",
       "      <td>16.716999</td>\n",
       "      <td>11804734.0</td>\n",
       "      <td>62.783</td>\n",
       "      <td>57.242</td>\n",
       "      <td>...</td>\n",
       "      <td>84.1</td>\n",
       "      <td>3.378269</td>\n",
       "      <td>153.9008</td>\n",
       "      <td>1728.023754</td>\n",
       "      <td>7.412</td>\n",
       "      <td>24.7</td>\n",
       "      <td>312.228895</td>\n",
       "      <td>103.607564</td>\n",
       "      <td>50.671478</td>\n",
       "      <td>9.336260</td>\n",
       "    </tr>\n",
       "  </tbody>\n",
       "</table>\n",
       "<p>5 rows × 25 columns</p>\n",
       "</div>"
      ],
      "text/plain": [
       "       pais continentes  country  year  Desempleo_mujeres  \\\n",
       "0  Zimbabwe      Africa       19  2020              8.774   \n",
       "1  Zimbabwe      Africa       19  2019              7.835   \n",
       "2  Zimbabwe      Africa       19  2018              7.829   \n",
       "3  Zimbabwe      Africa       19  2017              7.810   \n",
       "4  Zimbabwe      Africa       19  2016              7.807   \n",
       "\n",
       "   Desempleo_mujeres_jóvenes_14_24_años  Desempleo_varones_jovenes_15_24_años  \\\n",
       "0                             18.101999                             18.070999   \n",
       "1                             16.665001                             16.554001   \n",
       "2                             16.693001                             16.613001   \n",
       "3                             16.695000                             16.646999   \n",
       "4                             16.726000                             16.716999   \n",
       "\n",
       "   Desempleo_Población_activa_total  esperanza_vida_nacer_Mujeres  \\\n",
       "0                        13415460.0                        64.383   \n",
       "1                        13116712.0                        64.039   \n",
       "2                        12659938.0                        63.666   \n",
       "3                        12223456.0                        63.252   \n",
       "4                        11804734.0                        62.783   \n",
       "\n",
       "   esperanza_vida_nacer_Varones  ...  tasa_mort_5anios_cada_mil  \\\n",
       "0                        58.744  ...                       71.5   \n",
       "1                        58.416  ...                       74.2   \n",
       "2                        58.064  ...                       77.3   \n",
       "3                        57.677  ...                       80.6   \n",
       "4                        57.242  ...                       84.1   \n",
       "\n",
       "   crecimiento_poblacion  Tasa_fertilidad_mujeres  PBI_per_capita  \\\n",
       "0               3.218530                 142.8220     1631.431691   \n",
       "1               3.242914                 145.3900     2177.799015   \n",
       "2               3.276145                 147.9580     2524.942483   \n",
       "3               3.322158                 150.5260     2313.220584   \n",
       "4               3.378269                 153.9008     1728.023754   \n",
       "\n",
       "   desempleo_total  mortalidad_accidentes_transito  acceso_a_la_electricidad  \\\n",
       "0            8.333                            26.1                312.228895   \n",
       "1            7.421                            26.1                312.228895   \n",
       "2            7.421                            26.0                312.228895   \n",
       "3            7.408                            25.5                312.228895   \n",
       "4            7.412                            24.7                312.228895   \n",
       "\n",
       "   Inscripción_escolar_nivel_primario  Inscripción_escolar_nivel_secundaria  \\\n",
       "0                          103.607564                             88.625146   \n",
       "1                          103.607564                             88.625146   \n",
       "2                          103.607564                             88.625146   \n",
       "3                          103.607564                             88.625146   \n",
       "4                          103.607564                             50.671478   \n",
       "\n",
       "   inscripciones_nivel_terciario  \n",
       "0                       3.249986  \n",
       "1                       3.249986  \n",
       "2                       3.249986  \n",
       "3                       3.249986  \n",
       "4                       9.336260  \n",
       "\n",
       "[5 rows x 25 columns]"
      ]
     },
     "execution_count": 154,
     "metadata": {},
     "output_type": "execute_result"
    }
   ],
   "source": [
    "import requests\n",
    "from pandas import json_normalize\n",
    "r = requests.get('http://esperanzadevida.herokuapp.com/api4')\n",
    "x = r.json()\n",
    "df = json_normalize(x['api4']) \n",
    "df=df.drop(['index'], axis=1)\n",
    "df.head()"
   ]
  },
  {
   "cell_type": "markdown",
   "metadata": {},
   "source": [
    "COLUMNAS"
   ]
  },
  {
   "cell_type": "code",
   "execution_count": 155,
   "metadata": {},
   "outputs": [
    {
     "data": {
      "text/plain": [
       "Index(['pais', 'continentes', 'country', 'year', 'Desempleo_mujeres',\n",
       "       'Desempleo_mujeres_jóvenes_14_24_años',\n",
       "       'Desempleo_varones_jovenes_15_24_años',\n",
       "       'Desempleo_Población_activa_total', 'esperanza_vida_nacer_Mujeres',\n",
       "       'esperanza_vida_nacer_Varones', 'esperanza_vida_nacer_total',\n",
       "       'poblacion_total_salud', 'fertilidad_mujeres', 'tasa_mortalidad_bebes',\n",
       "       'crecimiento_masa_monetaria_inflacion', 'tasa_mort_5anios_cada_mil',\n",
       "       'crecimiento_poblacion', 'Tasa_fertilidad_mujeres', 'PBI_per_capita',\n",
       "       'desempleo_total', 'mortalidad_accidentes_transito',\n",
       "       'acceso_a_la_electricidad', 'Inscripción_escolar_nivel_primario',\n",
       "       'Inscripción_escolar_nivel_secundaria',\n",
       "       'inscripciones_nivel_terciario'],\n",
       "      dtype='object')"
      ]
     },
     "execution_count": 155,
     "metadata": {},
     "output_type": "execute_result"
    }
   ],
   "source": [
    "df.columns"
   ]
  },
  {
   "cell_type": "markdown",
   "metadata": {},
   "source": [
    "DATOS"
   ]
  },
  {
   "cell_type": "code",
   "execution_count": 156,
   "metadata": {},
   "outputs": [],
   "source": [
    "test_date = df[df.pais.isin([\"Chile\",\"Japan\",\"Finland\",\"Canada\",\"Nigeria\"])]\n",
    "train_date = df[~df.pais.isin([\"Chile\",\"Japan\",\"Finland\",\"Canada\",\"Nigeria\"])]"
   ]
  },
  {
   "cell_type": "markdown",
   "metadata": {},
   "source": [
    "CONVERSION"
   ]
  },
  {
   "cell_type": "markdown",
   "metadata": {},
   "source": [
    "target = esperanza (0 y 1)"
   ]
  },
  {
   "cell_type": "code",
   "execution_count": 157,
   "metadata": {},
   "outputs": [
    {
     "name": "stderr",
     "output_type": "stream",
     "text": [
      "C:\\Users\\User\\AppData\\Local\\Temp\\ipykernel_428\\139258773.py:6: SettingWithCopyWarning: \n",
      "A value is trying to be set on a copy of a slice from a DataFrame.\n",
      "Try using .loc[row_indexer,col_indexer] = value instead\n",
      "\n",
      "See the caveats in the documentation: https://pandas.pydata.org/pandas-docs/stable/user_guide/indexing.html#returning-a-view-versus-a-copy\n",
      "  train_date['esperanza'] = train_date['esperanza_vida_nacer_total'].apply(anios)\n"
     ]
    },
    {
     "data": {
      "text/html": [
       "<div>\n",
       "<style scoped>\n",
       "    .dataframe tbody tr th:only-of-type {\n",
       "        vertical-align: middle;\n",
       "    }\n",
       "\n",
       "    .dataframe tbody tr th {\n",
       "        vertical-align: top;\n",
       "    }\n",
       "\n",
       "    .dataframe thead th {\n",
       "        text-align: right;\n",
       "    }\n",
       "</style>\n",
       "<table border=\"1\" class=\"dataframe\">\n",
       "  <thead>\n",
       "    <tr style=\"text-align: right;\">\n",
       "      <th></th>\n",
       "      <th>year</th>\n",
       "      <th>country</th>\n",
       "      <th>esperanza</th>\n",
       "      <th>Desempleo_Población_activa_total</th>\n",
       "      <th>poblacion_total_salud</th>\n",
       "      <th>crecimiento_poblacion</th>\n",
       "      <th>PBI_per_capita</th>\n",
       "      <th>desempleo_total</th>\n",
       "    </tr>\n",
       "  </thead>\n",
       "  <tbody>\n",
       "    <tr>\n",
       "      <th>0</th>\n",
       "      <td>2020</td>\n",
       "      <td>19</td>\n",
       "      <td>0</td>\n",
       "      <td>13415460.0</td>\n",
       "      <td>32866268.0</td>\n",
       "      <td>3.218530</td>\n",
       "      <td>1631.431691</td>\n",
       "      <td>8.333</td>\n",
       "    </tr>\n",
       "    <tr>\n",
       "      <th>1</th>\n",
       "      <td>2019</td>\n",
       "      <td>19</td>\n",
       "      <td>0</td>\n",
       "      <td>13116712.0</td>\n",
       "      <td>31825299.0</td>\n",
       "      <td>3.242914</td>\n",
       "      <td>2177.799015</td>\n",
       "      <td>7.421</td>\n",
       "    </tr>\n",
       "    <tr>\n",
       "      <th>2</th>\n",
       "      <td>2018</td>\n",
       "      <td>19</td>\n",
       "      <td>0</td>\n",
       "      <td>12659938.0</td>\n",
       "      <td>30809787.0</td>\n",
       "      <td>3.276145</td>\n",
       "      <td>2524.942483</td>\n",
       "      <td>7.421</td>\n",
       "    </tr>\n",
       "    <tr>\n",
       "      <th>3</th>\n",
       "      <td>2017</td>\n",
       "      <td>19</td>\n",
       "      <td>0</td>\n",
       "      <td>12223456.0</td>\n",
       "      <td>29816769.0</td>\n",
       "      <td>3.322158</td>\n",
       "      <td>2313.220584</td>\n",
       "      <td>7.408</td>\n",
       "    </tr>\n",
       "    <tr>\n",
       "      <th>4</th>\n",
       "      <td>2016</td>\n",
       "      <td>19</td>\n",
       "      <td>0</td>\n",
       "      <td>11804734.0</td>\n",
       "      <td>28842482.0</td>\n",
       "      <td>3.378269</td>\n",
       "      <td>1728.023754</td>\n",
       "      <td>7.412</td>\n",
       "    </tr>\n",
       "    <tr>\n",
       "      <th>...</th>\n",
       "      <td>...</td>\n",
       "      <td>...</td>\n",
       "      <td>...</td>\n",
       "      <td>...</td>\n",
       "      <td>...</td>\n",
       "      <td>...</td>\n",
       "      <td>...</td>\n",
       "      <td>...</td>\n",
       "    </tr>\n",
       "    <tr>\n",
       "      <th>925</th>\n",
       "      <td>1994</td>\n",
       "      <td>18</td>\n",
       "      <td>0</td>\n",
       "      <td>5232727.0</td>\n",
       "      <td>11261752.0</td>\n",
       "      <td>1.511821</td>\n",
       "      <td>611.865276</td>\n",
       "      <td>4.960</td>\n",
       "    </tr>\n",
       "    <tr>\n",
       "      <th>926</th>\n",
       "      <td>1993</td>\n",
       "      <td>18</td>\n",
       "      <td>0</td>\n",
       "      <td>5110439.0</td>\n",
       "      <td>11092775.0</td>\n",
       "      <td>1.748433</td>\n",
       "      <td>591.719682</td>\n",
       "      <td>4.974</td>\n",
       "    </tr>\n",
       "    <tr>\n",
       "      <th>927</th>\n",
       "      <td>1992</td>\n",
       "      <td>18</td>\n",
       "      <td>0</td>\n",
       "      <td>4980977.0</td>\n",
       "      <td>10900511.0</td>\n",
       "      <td>2.034246</td>\n",
       "      <td>619.372083</td>\n",
       "      <td>4.993</td>\n",
       "    </tr>\n",
       "    <tr>\n",
       "      <th>928</th>\n",
       "      <td>1991</td>\n",
       "      <td>18</td>\n",
       "      <td>0</td>\n",
       "      <td>4850329.0</td>\n",
       "      <td>10681008.0</td>\n",
       "      <td>2.355000</td>\n",
       "      <td>809.051140</td>\n",
       "      <td>4.941</td>\n",
       "    </tr>\n",
       "    <tr>\n",
       "      <th>929</th>\n",
       "      <td>1990</td>\n",
       "      <td>18</td>\n",
       "      <td>0</td>\n",
       "      <td>4721816.0</td>\n",
       "      <td>10432409.0</td>\n",
       "      <td>2.706407</td>\n",
       "      <td>841.973958</td>\n",
       "      <td>4.941</td>\n",
       "    </tr>\n",
       "  </tbody>\n",
       "</table>\n",
       "<p>775 rows × 8 columns</p>\n",
       "</div>"
      ],
      "text/plain": [
       "     year  country  esperanza  Desempleo_Población_activa_total  \\\n",
       "0    2020       19          0                        13415460.0   \n",
       "1    2019       19          0                        13116712.0   \n",
       "2    2018       19          0                        12659938.0   \n",
       "3    2017       19          0                        12223456.0   \n",
       "4    2016       19          0                        11804734.0   \n",
       "..    ...      ...        ...                               ...   \n",
       "925  1994       18          0                         5232727.0   \n",
       "926  1993       18          0                         5110439.0   \n",
       "927  1992       18          0                         4980977.0   \n",
       "928  1991       18          0                         4850329.0   \n",
       "929  1990       18          0                         4721816.0   \n",
       "\n",
       "     poblacion_total_salud  crecimiento_poblacion  PBI_per_capita  \\\n",
       "0               32866268.0               3.218530     1631.431691   \n",
       "1               31825299.0               3.242914     2177.799015   \n",
       "2               30809787.0               3.276145     2524.942483   \n",
       "3               29816769.0               3.322158     2313.220584   \n",
       "4               28842482.0               3.378269     1728.023754   \n",
       "..                     ...                    ...             ...   \n",
       "925             11261752.0               1.511821      611.865276   \n",
       "926             11092775.0               1.748433      591.719682   \n",
       "927             10900511.0               2.034246      619.372083   \n",
       "928             10681008.0               2.355000      809.051140   \n",
       "929             10432409.0               2.706407      841.973958   \n",
       "\n",
       "     desempleo_total  \n",
       "0              8.333  \n",
       "1              7.421  \n",
       "2              7.421  \n",
       "3              7.408  \n",
       "4              7.412  \n",
       "..               ...  \n",
       "925            4.960  \n",
       "926            4.974  \n",
       "927            4.993  \n",
       "928            4.941  \n",
       "929            4.941  \n",
       "\n",
       "[775 rows x 8 columns]"
      ]
     },
     "execution_count": 157,
     "metadata": {},
     "output_type": "execute_result"
    }
   ],
   "source": [
    "def anios(dato):\n",
    "    if dato > 70:\n",
    "        return 1\n",
    "    else:\n",
    "        return 0\n",
    "train_date['esperanza'] = train_date['esperanza_vida_nacer_total'].apply(anios)\n",
    "lista =[\"year\",\"country\",'esperanza',\"Desempleo_Población_activa_total\",\"poblacion_total_salud\",\"crecimiento_poblacion\",\"PBI_per_capita\",\"desempleo_total\"]\n",
    "datos= train_date[lista]\n",
    "datos"
   ]
  },
  {
   "cell_type": "code",
   "execution_count": 158,
   "metadata": {},
   "outputs": [
    {
     "name": "stdout",
     "output_type": "stream",
     "text": [
      "<class 'pandas.core.frame.DataFrame'>\n",
      "Int64Index: 775 entries, 0 to 929\n",
      "Data columns (total 8 columns):\n",
      " #   Column                            Non-Null Count  Dtype  \n",
      "---  ------                            --------------  -----  \n",
      " 0   year                              775 non-null    int64  \n",
      " 1   country                           775 non-null    int64  \n",
      " 2   esperanza                         775 non-null    int64  \n",
      " 3   Desempleo_Población_activa_total  775 non-null    float64\n",
      " 4   poblacion_total_salud             775 non-null    float64\n",
      " 5   crecimiento_poblacion             775 non-null    float64\n",
      " 6   PBI_per_capita                    775 non-null    float64\n",
      " 7   desempleo_total                   775 non-null    float64\n",
      "dtypes: float64(5), int64(3)\n",
      "memory usage: 54.5 KB\n"
     ]
    }
   ],
   "source": [
    "datos.info()"
   ]
  },
  {
   "cell_type": "markdown",
   "metadata": {},
   "source": [
    "mujeres"
   ]
  },
  {
   "cell_type": "markdown",
   "metadata": {},
   "source": [
    "MinMaxScaler"
   ]
  },
  {
   "cell_type": "markdown",
   "metadata": {},
   "source": []
  },
  {
   "cell_type": "code",
   "execution_count": 159,
   "metadata": {},
   "outputs": [
    {
     "data": {
      "text/html": [
       "<div>\n",
       "<style scoped>\n",
       "    .dataframe tbody tr th:only-of-type {\n",
       "        vertical-align: middle;\n",
       "    }\n",
       "\n",
       "    .dataframe tbody tr th {\n",
       "        vertical-align: top;\n",
       "    }\n",
       "\n",
       "    .dataframe thead th {\n",
       "        text-align: right;\n",
       "    }\n",
       "</style>\n",
       "<table border=\"1\" class=\"dataframe\">\n",
       "  <thead>\n",
       "    <tr style=\"text-align: right;\">\n",
       "      <th></th>\n",
       "      <th>year</th>\n",
       "      <th>country</th>\n",
       "      <th>esperanza</th>\n",
       "      <th>Desempleo_Población_activa_total</th>\n",
       "      <th>poblacion_total_salud</th>\n",
       "      <th>crecimiento_poblacion</th>\n",
       "      <th>PBI_per_capita</th>\n",
       "      <th>desempleo_total</th>\n",
       "    </tr>\n",
       "  </thead>\n",
       "  <tbody>\n",
       "    <tr>\n",
       "      <th>0</th>\n",
       "      <td>1.000000</td>\n",
       "      <td>0.678571</td>\n",
       "      <td>0.0</td>\n",
       "      <td>0.015148</td>\n",
       "      <td>0.021134</td>\n",
       "      <td>0.886872</td>\n",
       "      <td>0.012964</td>\n",
       "      <td>0.201887</td>\n",
       "    </tr>\n",
       "    <tr>\n",
       "      <th>1</th>\n",
       "      <td>0.966667</td>\n",
       "      <td>0.678571</td>\n",
       "      <td>0.0</td>\n",
       "      <td>0.014774</td>\n",
       "      <td>0.020395</td>\n",
       "      <td>0.889661</td>\n",
       "      <td>0.018289</td>\n",
       "      <td>0.172721</td>\n",
       "    </tr>\n",
       "    <tr>\n",
       "      <th>2</th>\n",
       "      <td>0.933333</td>\n",
       "      <td>0.678571</td>\n",
       "      <td>0.0</td>\n",
       "      <td>0.014202</td>\n",
       "      <td>0.019674</td>\n",
       "      <td>0.893463</td>\n",
       "      <td>0.021672</td>\n",
       "      <td>0.172721</td>\n",
       "    </tr>\n",
       "    <tr>\n",
       "      <th>3</th>\n",
       "      <td>0.900000</td>\n",
       "      <td>0.678571</td>\n",
       "      <td>0.0</td>\n",
       "      <td>0.013656</td>\n",
       "      <td>0.018968</td>\n",
       "      <td>0.898727</td>\n",
       "      <td>0.019608</td>\n",
       "      <td>0.172306</td>\n",
       "    </tr>\n",
       "    <tr>\n",
       "      <th>4</th>\n",
       "      <td>0.866667</td>\n",
       "      <td>0.678571</td>\n",
       "      <td>0.0</td>\n",
       "      <td>0.013131</td>\n",
       "      <td>0.018276</td>\n",
       "      <td>0.905147</td>\n",
       "      <td>0.013905</td>\n",
       "      <td>0.172434</td>\n",
       "    </tr>\n",
       "    <tr>\n",
       "      <th>...</th>\n",
       "      <td>...</td>\n",
       "      <td>...</td>\n",
       "      <td>...</td>\n",
       "      <td>...</td>\n",
       "      <td>...</td>\n",
       "      <td>...</td>\n",
       "      <td>...</td>\n",
       "      <td>...</td>\n",
       "    </tr>\n",
       "    <tr>\n",
       "      <th>770</th>\n",
       "      <td>0.133333</td>\n",
       "      <td>0.642857</td>\n",
       "      <td>0.0</td>\n",
       "      <td>0.004903</td>\n",
       "      <td>0.005790</td>\n",
       "      <td>0.691613</td>\n",
       "      <td>0.003028</td>\n",
       "      <td>0.094020</td>\n",
       "    </tr>\n",
       "    <tr>\n",
       "      <th>771</th>\n",
       "      <td>0.100000</td>\n",
       "      <td>0.642857</td>\n",
       "      <td>0.0</td>\n",
       "      <td>0.004750</td>\n",
       "      <td>0.005670</td>\n",
       "      <td>0.718683</td>\n",
       "      <td>0.002832</td>\n",
       "      <td>0.094468</td>\n",
       "    </tr>\n",
       "    <tr>\n",
       "      <th>772</th>\n",
       "      <td>0.066667</td>\n",
       "      <td>0.642857</td>\n",
       "      <td>0.0</td>\n",
       "      <td>0.004588</td>\n",
       "      <td>0.005533</td>\n",
       "      <td>0.751382</td>\n",
       "      <td>0.003101</td>\n",
       "      <td>0.095075</td>\n",
       "    </tr>\n",
       "    <tr>\n",
       "      <th>773</th>\n",
       "      <td>0.033333</td>\n",
       "      <td>0.642857</td>\n",
       "      <td>0.0</td>\n",
       "      <td>0.004424</td>\n",
       "      <td>0.005377</td>\n",
       "      <td>0.788078</td>\n",
       "      <td>0.004950</td>\n",
       "      <td>0.093412</td>\n",
       "    </tr>\n",
       "    <tr>\n",
       "      <th>774</th>\n",
       "      <td>0.000000</td>\n",
       "      <td>0.642857</td>\n",
       "      <td>0.0</td>\n",
       "      <td>0.004263</td>\n",
       "      <td>0.005201</td>\n",
       "      <td>0.828281</td>\n",
       "      <td>0.005270</td>\n",
       "      <td>0.093412</td>\n",
       "    </tr>\n",
       "  </tbody>\n",
       "</table>\n",
       "<p>775 rows × 8 columns</p>\n",
       "</div>"
      ],
      "text/plain": [
       "         year   country  esperanza  Desempleo_Población_activa_total  \\\n",
       "0    1.000000  0.678571        0.0                          0.015148   \n",
       "1    0.966667  0.678571        0.0                          0.014774   \n",
       "2    0.933333  0.678571        0.0                          0.014202   \n",
       "3    0.900000  0.678571        0.0                          0.013656   \n",
       "4    0.866667  0.678571        0.0                          0.013131   \n",
       "..        ...       ...        ...                               ...   \n",
       "770  0.133333  0.642857        0.0                          0.004903   \n",
       "771  0.100000  0.642857        0.0                          0.004750   \n",
       "772  0.066667  0.642857        0.0                          0.004588   \n",
       "773  0.033333  0.642857        0.0                          0.004424   \n",
       "774  0.000000  0.642857        0.0                          0.004263   \n",
       "\n",
       "     poblacion_total_salud  crecimiento_poblacion  PBI_per_capita  \\\n",
       "0                 0.021134               0.886872        0.012964   \n",
       "1                 0.020395               0.889661        0.018289   \n",
       "2                 0.019674               0.893463        0.021672   \n",
       "3                 0.018968               0.898727        0.019608   \n",
       "4                 0.018276               0.905147        0.013905   \n",
       "..                     ...                    ...             ...   \n",
       "770               0.005790               0.691613        0.003028   \n",
       "771               0.005670               0.718683        0.002832   \n",
       "772               0.005533               0.751382        0.003101   \n",
       "773               0.005377               0.788078        0.004950   \n",
       "774               0.005201               0.828281        0.005270   \n",
       "\n",
       "     desempleo_total  \n",
       "0           0.201887  \n",
       "1           0.172721  \n",
       "2           0.172721  \n",
       "3           0.172306  \n",
       "4           0.172434  \n",
       "..               ...  \n",
       "770         0.094020  \n",
       "771         0.094468  \n",
       "772         0.095075  \n",
       "773         0.093412  \n",
       "774         0.093412  \n",
       "\n",
       "[775 rows x 8 columns]"
      ]
     },
     "execution_count": 159,
     "metadata": {},
     "output_type": "execute_result"
    }
   ],
   "source": [
    "from  sklearn  import  preprocessing\n",
    "import pandas as pd\n",
    "\n",
    "minmax =  preprocessing.MinMaxScaler().fit_transform(datos)\n",
    "data_min= pd.DataFrame(minmax)\n",
    "data_min=data_min.set_axis(lista, axis=1)\n",
    "data_min"
   ]
  },
  {
   "cell_type": "markdown",
   "metadata": {},
   "source": [
    "correlaciones "
   ]
  },
  {
   "cell_type": "code",
   "execution_count": 160,
   "metadata": {},
   "outputs": [
    {
     "data": {
      "text/html": [
       "<div>\n",
       "<style scoped>\n",
       "    .dataframe tbody tr th:only-of-type {\n",
       "        vertical-align: middle;\n",
       "    }\n",
       "\n",
       "    .dataframe tbody tr th {\n",
       "        vertical-align: top;\n",
       "    }\n",
       "\n",
       "    .dataframe thead th {\n",
       "        text-align: right;\n",
       "    }\n",
       "</style>\n",
       "<table border=\"1\" class=\"dataframe\">\n",
       "  <thead>\n",
       "    <tr style=\"text-align: right;\">\n",
       "      <th></th>\n",
       "      <th>v1</th>\n",
       "      <th>v2</th>\n",
       "      <th>R</th>\n",
       "      <th>R2</th>\n",
       "    </tr>\n",
       "  </thead>\n",
       "  <tbody>\n",
       "    <tr>\n",
       "      <th>1</th>\n",
       "      <td>country</td>\n",
       "      <td>year</td>\n",
       "      <td>1.394854e-17</td>\n",
       "      <td>1.945618e-34</td>\n",
       "    </tr>\n",
       "    <tr>\n",
       "      <th>2</th>\n",
       "      <td>esperanza</td>\n",
       "      <td>year</td>\n",
       "      <td>1.781766e-01</td>\n",
       "      <td>3.174690e-02</td>\n",
       "    </tr>\n",
       "    <tr>\n",
       "      <th>3</th>\n",
       "      <td>Desempleo_Población_activa_total</td>\n",
       "      <td>year</td>\n",
       "      <td>3.843944e-02</td>\n",
       "      <td>1.477591e-03</td>\n",
       "    </tr>\n",
       "    <tr>\n",
       "      <th>4</th>\n",
       "      <td>poblacion_total_salud</td>\n",
       "      <td>year</td>\n",
       "      <td>4.077611e-02</td>\n",
       "      <td>1.662691e-03</td>\n",
       "    </tr>\n",
       "    <tr>\n",
       "      <th>5</th>\n",
       "      <td>crecimiento_poblacion</td>\n",
       "      <td>year</td>\n",
       "      <td>-1.633482e-01</td>\n",
       "      <td>2.668263e-02</td>\n",
       "    </tr>\n",
       "  </tbody>\n",
       "</table>\n",
       "</div>"
      ],
      "text/plain": [
       "                                 v1    v2             R            R2\n",
       "1                           country  year  1.394854e-17  1.945618e-34\n",
       "2                         esperanza  year  1.781766e-01  3.174690e-02\n",
       "3  Desempleo_Población_activa_total  year  3.843944e-02  1.477591e-03\n",
       "4             poblacion_total_salud  year  4.077611e-02  1.662691e-03\n",
       "5             crecimiento_poblacion  year -1.633482e-01  2.668263e-02"
      ]
     },
     "execution_count": 160,
     "metadata": {},
     "output_type": "execute_result"
    }
   ],
   "source": [
    "from funpymodeling.exploratory import corr_pair\n",
    "res=corr_pair(data_min)\n",
    "res.head()"
   ]
  },
  {
   "cell_type": "markdown",
   "metadata": {},
   "source": [
    "correlaciones con nuestro datoa predecir esperaza"
   ]
  },
  {
   "cell_type": "code",
   "execution_count": 161,
   "metadata": {},
   "outputs": [
    {
     "data": {
      "text/html": [
       "<div>\n",
       "<style scoped>\n",
       "    .dataframe tbody tr th:only-of-type {\n",
       "        vertical-align: middle;\n",
       "    }\n",
       "\n",
       "    .dataframe tbody tr th {\n",
       "        vertical-align: top;\n",
       "    }\n",
       "\n",
       "    .dataframe thead th {\n",
       "        text-align: right;\n",
       "    }\n",
       "</style>\n",
       "<table border=\"1\" class=\"dataframe\">\n",
       "  <thead>\n",
       "    <tr style=\"text-align: right;\">\n",
       "      <th></th>\n",
       "      <th>v1</th>\n",
       "      <th>v2</th>\n",
       "      <th>R</th>\n",
       "      <th>R2</th>\n",
       "    </tr>\n",
       "  </thead>\n",
       "  <tbody>\n",
       "    <tr>\n",
       "      <th>22</th>\n",
       "      <td>PBI_per_capita</td>\n",
       "      <td>esperanza</td>\n",
       "      <td>0.492926</td>\n",
       "      <td>0.242977</td>\n",
       "    </tr>\n",
       "    <tr>\n",
       "      <th>21</th>\n",
       "      <td>crecimiento_poblacion</td>\n",
       "      <td>esperanza</td>\n",
       "      <td>-0.408823</td>\n",
       "      <td>0.167136</td>\n",
       "    </tr>\n",
       "    <tr>\n",
       "      <th>16</th>\n",
       "      <td>year</td>\n",
       "      <td>esperanza</td>\n",
       "      <td>0.178177</td>\n",
       "      <td>0.031747</td>\n",
       "    </tr>\n",
       "    <tr>\n",
       "      <th>20</th>\n",
       "      <td>poblacion_total_salud</td>\n",
       "      <td>esperanza</td>\n",
       "      <td>-0.131805</td>\n",
       "      <td>0.017372</td>\n",
       "    </tr>\n",
       "    <tr>\n",
       "      <th>17</th>\n",
       "      <td>country</td>\n",
       "      <td>esperanza</td>\n",
       "      <td>0.081548</td>\n",
       "      <td>0.006650</td>\n",
       "    </tr>\n",
       "    <tr>\n",
       "      <th>23</th>\n",
       "      <td>desempleo_total</td>\n",
       "      <td>esperanza</td>\n",
       "      <td>-0.078119</td>\n",
       "      <td>0.006103</td>\n",
       "    </tr>\n",
       "    <tr>\n",
       "      <th>19</th>\n",
       "      <td>Desempleo_Población_activa_total</td>\n",
       "      <td>esperanza</td>\n",
       "      <td>-0.065803</td>\n",
       "      <td>0.004330</td>\n",
       "    </tr>\n",
       "  </tbody>\n",
       "</table>\n",
       "</div>"
      ],
      "text/plain": [
       "                                  v1         v2         R        R2\n",
       "22                    PBI_per_capita  esperanza  0.492926  0.242977\n",
       "21             crecimiento_poblacion  esperanza -0.408823  0.167136\n",
       "16                              year  esperanza  0.178177  0.031747\n",
       "20             poblacion_total_salud  esperanza -0.131805  0.017372\n",
       "17                           country  esperanza  0.081548  0.006650\n",
       "23                   desempleo_total  esperanza -0.078119  0.006103\n",
       "19  Desempleo_Población_activa_total  esperanza -0.065803  0.004330"
      ]
     },
     "execution_count": 161,
     "metadata": {},
     "output_type": "execute_result"
    }
   ],
   "source": [
    "res_target_ordered=res[res['v2']==\"esperanza\"].sort_values('R2', ascending=False)\n",
    "res_target_ordered"
   ]
  },
  {
   "cell_type": "code",
   "execution_count": 162,
   "metadata": {},
   "outputs": [
    {
     "data": {
      "text/html": [
       "<div>\n",
       "<style scoped>\n",
       "    .dataframe tbody tr th:only-of-type {\n",
       "        vertical-align: middle;\n",
       "    }\n",
       "\n",
       "    .dataframe tbody tr th {\n",
       "        vertical-align: top;\n",
       "    }\n",
       "\n",
       "    .dataframe thead th {\n",
       "        text-align: right;\n",
       "    }\n",
       "</style>\n",
       "<table border=\"1\" class=\"dataframe\">\n",
       "  <thead>\n",
       "    <tr style=\"text-align: right;\">\n",
       "      <th></th>\n",
       "      <th>v1</th>\n",
       "      <th>v2</th>\n",
       "      <th>R</th>\n",
       "      <th>R2</th>\n",
       "    </tr>\n",
       "  </thead>\n",
       "  <tbody>\n",
       "    <tr>\n",
       "      <th>22</th>\n",
       "      <td>PBI_per_capita</td>\n",
       "      <td>esperanza</td>\n",
       "      <td>0.492926</td>\n",
       "      <td>0.242977</td>\n",
       "    </tr>\n",
       "    <tr>\n",
       "      <th>21</th>\n",
       "      <td>crecimiento_poblacion</td>\n",
       "      <td>esperanza</td>\n",
       "      <td>-0.408823</td>\n",
       "      <td>0.167136</td>\n",
       "    </tr>\n",
       "    <tr>\n",
       "      <th>16</th>\n",
       "      <td>year</td>\n",
       "      <td>esperanza</td>\n",
       "      <td>0.178177</td>\n",
       "      <td>0.031747</td>\n",
       "    </tr>\n",
       "    <tr>\n",
       "      <th>20</th>\n",
       "      <td>poblacion_total_salud</td>\n",
       "      <td>esperanza</td>\n",
       "      <td>-0.131805</td>\n",
       "      <td>0.017372</td>\n",
       "    </tr>\n",
       "    <tr>\n",
       "      <th>17</th>\n",
       "      <td>country</td>\n",
       "      <td>esperanza</td>\n",
       "      <td>0.081548</td>\n",
       "      <td>0.006650</td>\n",
       "    </tr>\n",
       "    <tr>\n",
       "      <th>23</th>\n",
       "      <td>desempleo_total</td>\n",
       "      <td>esperanza</td>\n",
       "      <td>-0.078119</td>\n",
       "      <td>0.006103</td>\n",
       "    </tr>\n",
       "    <tr>\n",
       "      <th>19</th>\n",
       "      <td>Desempleo_Población_activa_total</td>\n",
       "      <td>esperanza</td>\n",
       "      <td>-0.065803</td>\n",
       "      <td>0.004330</td>\n",
       "    </tr>\n",
       "  </tbody>\n",
       "</table>\n",
       "</div>"
      ],
      "text/plain": [
       "                                  v1         v2         R        R2\n",
       "22                    PBI_per_capita  esperanza  0.492926  0.242977\n",
       "21             crecimiento_poblacion  esperanza -0.408823  0.167136\n",
       "16                              year  esperanza  0.178177  0.031747\n",
       "20             poblacion_total_salud  esperanza -0.131805  0.017372\n",
       "17                           country  esperanza  0.081548  0.006650\n",
       "23                   desempleo_total  esperanza -0.078119  0.006103\n",
       "19  Desempleo_Población_activa_total  esperanza -0.065803  0.004330"
      ]
     },
     "execution_count": 162,
     "metadata": {},
     "output_type": "execute_result"
    }
   ],
   "source": [
    "res_target_ordered[res_target_ordered['R2']<0.05]['v1']\n",
    "res_target_ordered"
   ]
  },
  {
   "cell_type": "markdown",
   "metadata": {},
   "source": [
    "graficamente"
   ]
  },
  {
   "cell_type": "code",
   "execution_count": 163,
   "metadata": {},
   "outputs": [
    {
     "data": {
      "text/plain": [
       "<AxesSubplot:>"
      ]
     },
     "execution_count": 163,
     "metadata": {},
     "output_type": "execute_result"
    },
    {
     "data": {
      "image/png": "[encoded data removed]",
      "text/plain": [
       "<Figure size 432x288 with 2 Axes>"
      ]
     },
     "metadata": {
      "needs_background": "light"
     },
     "output_type": "display_data"
    }
   ],
   "source": [
    "import seaborn as sns\n",
    "\n",
    "correlacion = data_min.corr()\n",
    "sns.heatmap(correlacion, annot=True)"
   ]
  },
  {
   "cell_type": "markdown",
   "metadata": {},
   "source": [
    "DIVIDMOS LOS DATOS "
   ]
  },
  {
   "cell_type": "code",
   "execution_count": 165,
   "metadata": {},
   "outputs": [],
   "source": [
    "from sklearn.model_selection import train_test_split # usaremos para separar los datos de  train y test\n",
    "\n",
    "\n",
    "feature_cols = [\"crecimiento_poblacion\",\"PBI_per_capita\",\"desempleo_total\"]#filtramos nuestras columnas que nso ayudaran a entrenar el modelo \n",
    "x = data_min[feature_cols]\n",
    "y = data_min.esperanza\n",
    "# ahora dividiremos nuestros datos para el train y test \n",
    "X_train, X_test, y_train, y_test = train_test_split(x, y, test_size = 0.30, random_state = 42)"
   ]
  },
  {
   "cell_type": "markdown",
   "metadata": {},
   "source": [
    "BALANCEMOS LOS DATOS "
   ]
  },
  {
   "cell_type": "code",
   "execution_count": 166,
   "metadata": {},
   "outputs": [],
   "source": [
    "from  sklearn.preprocessing import  StandardScaler\n",
    "sc =  StandardScaler()\n",
    "X_train_res =sc.fit_transform(X_train)\n",
    "X_test= sc.transform(X_test)"
   ]
  },
  {
   "cell_type": "markdown",
   "metadata": {},
   "source": [
    "REGRESION LOGISTICA"
   ]
  },
  {
   "cell_type": "code",
   "execution_count": 167,
   "metadata": {},
   "outputs": [
    {
     "name": "stdout",
     "output_type": "stream",
     "text": [
      "              precision    recall  f1-score   support\n",
      "\n",
      "         0.0       0.70      0.94      0.80        64\n",
      "         1.0       0.97      0.85      0.91       169\n",
      "\n",
      "    accuracy                           0.87       233\n",
      "   macro avg       0.84      0.89      0.85       233\n",
      "weighted avg       0.90      0.87      0.88       233\n",
      "\n",
      "[[ 60   4]\n",
      " [ 26 143]]\n",
      "El score del modelo es: 0.8461538461538461\n"
     ]
    }
   ],
   "source": [
    "from sklearn.linear_model import LogisticRegression # improtamos el modelo logistico \n",
    "from sklearn.metrics import confusion_matrix, classification_report  #nos ayudara a mostrar la matrix de confusion \n",
    "\n",
    "#entrenamos nuestro modelo  logistico\n",
    "modelo_logistico = LogisticRegression() #\n",
    "modelo_logistico.fit(X_train_res, y_train) #entrenamos \n",
    "predictions = modelo_logistico.predict(X_test) # predecimos \n",
    "\n",
    "print(classification_report(y_test, predictions)) #\n",
    "cm=confusion_matrix(y_test,predictions)#mostramos la matris de confucion para ver cuantos datos estna prediciendo  0 y 1\n",
    "print(cm)\n",
    "\n",
    "from sklearn.metrics import recall_score\n",
    "print('El score del modelo es:', recall_score(y_test, predictions))"
   ]
  },
  {
   "cell_type": "markdown",
   "metadata": {},
   "source": [
    "DATOS  predecidos"
   ]
  },
  {
   "cell_type": "code",
   "execution_count": 168,
   "metadata": {},
   "outputs": [
    {
     "data": {
      "text/plain": [
       "array([0., 1., 0., 0., 1., 1., 1., 1., 1., 0., 0., 1., 1., 1., 0., 0., 1.,\n",
       "       1., 1., 1., 1., 1., 1., 1., 0., 1., 1., 1., 1., 0., 0., 0., 1., 0.,\n",
       "       0., 1., 0., 0., 0., 0., 0., 0., 1., 1., 0., 0., 1., 1., 0., 1., 1.,\n",
       "       1., 0., 1., 1., 1., 1., 0., 0., 1., 1., 1., 1., 0., 1., 1., 1., 1.,\n",
       "       1., 1., 1., 1., 0., 0., 0., 0., 1., 1., 1., 1., 1., 1., 1., 1., 1.,\n",
       "       0., 1., 0., 1., 1., 1., 0., 1., 1., 1., 1., 0., 0., 1., 0., 1., 1.,\n",
       "       0., 0., 1., 1., 0., 1., 1., 1., 1., 1., 0., 1., 1., 1., 1., 1., 1.,\n",
       "       1., 1., 1., 0., 1., 0., 1., 1., 0., 0., 1., 1., 0., 1., 1., 1., 0.,\n",
       "       0., 0., 1., 0., 1., 0., 1., 1., 1., 0., 1., 0., 1., 1., 0., 0., 1.,\n",
       "       1., 0., 0., 0., 1., 0., 0., 1., 1., 1., 1., 1., 1., 1., 1., 1., 1.,\n",
       "       0., 1., 1., 1., 1., 0., 0., 1., 1., 1., 1., 1., 1., 1., 0., 0., 1.,\n",
       "       0., 0., 0., 1., 1., 0., 1., 1., 0., 1., 1., 0., 1., 0., 0., 1., 0.,\n",
       "       1., 1., 1., 1., 1., 0., 1., 1., 0., 0., 1., 1., 0., 1., 0., 1., 0.,\n",
       "       1., 0., 1., 1., 0., 0., 0., 0., 0., 0., 1., 1.])"
      ]
     },
     "execution_count": 168,
     "metadata": {},
     "output_type": "execute_result"
    }
   ],
   "source": [
    "predictions"
   ]
  },
  {
   "cell_type": "code",
   "execution_count": 169,
   "metadata": {},
   "outputs": [
    {
     "data": {
      "text/plain": [
       "array([[-0.41309901,  5.53987421, -0.38260456]])"
      ]
     },
     "execution_count": 169,
     "metadata": {},
     "output_type": "execute_result"
    }
   ],
   "source": [
    "modelo_logistico.coef_ #estos son los parametros quemejor ajustan al modelo "
   ]
  },
  {
   "cell_type": "code",
   "execution_count": 170,
   "metadata": {},
   "outputs": [
    {
     "name": "stdout",
     "output_type": "stream",
     "text": [
      "Recall  : 0.6977\n"
     ]
    }
   ],
   "source": [
    "TP = cm[0,0]\n",
    "TN = cm[1,1]\n",
    "FP = cm[0,1]\n",
    "FN = cm[1,0]\n",
    "\n",
    "recall = TP / float(TP + FN)\n",
    "\n",
    "print('Recall  : {0:0.4f}'.format(recall))"
   ]
  },
  {
   "cell_type": "markdown",
   "metadata": {},
   "source": [
    "PREDECIMOS NUESTROS FUTUROS PAISES "
   ]
  },
  {
   "cell_type": "code",
   "execution_count": 171,
   "metadata": {},
   "outputs": [
    {
     "name": "stdout",
     "output_type": "stream",
     "text": [
      "[1. 1. 1. 1. 1. 1. 1. 1. 1. 1. 1. 1. 1. 1. 1. 1. 1. 1. 1. 1. 1. 1. 1. 1.\n",
      " 1. 1. 1. 1. 1. 1. 1. 0. 1. 1. 1. 0. 0. 1. 1. 1. 1. 0. 0. 0. 0. 0. 0. 0.\n",
      " 0. 0. 0. 0. 0. 0. 0. 0. 0. 0. 0. 0. 0. 0. 1. 1. 1. 1. 1. 1. 1. 1. 1. 1.\n",
      " 1. 1. 1. 1. 1. 1. 1. 1. 1. 1. 1. 1. 1. 1. 1. 1. 1. 1. 1. 1. 1. 0. 0. 0.\n",
      " 0. 0. 0. 0. 0. 0. 0. 0. 0. 0. 0. 0. 0. 0. 0. 0. 0. 0. 0. 0. 0. 0. 0. 0.\n",
      " 0. 0. 0. 0. 1. 1. 1. 1. 1. 1. 1. 1. 1. 1. 1. 1. 1. 1. 1. 1. 1. 1. 1. 1.\n",
      " 1. 1. 1. 1. 1. 1. 1. 1. 1. 1. 1.]\n"
     ]
    }
   ],
   "source": [
    "data_test= test_date[feature_cols]\n",
    "from  sklearn.preprocessing import  StandardScaler # rescalamos neustros datos de test\n",
    "sc =  StandardScaler()\n",
    "data_test =sc.fit_transform(data_test)\n",
    "\n",
    "predictions_test = modelo_logistico.predict(data_test) #predecimos con el modelo \n",
    "print (predictions_test)"
   ]
  },
  {
   "cell_type": "markdown",
   "metadata": {},
   "source": [
    "PREDICCION CON NIGERIA"
   ]
  },
  {
   "cell_type": "code",
   "execution_count": 172,
   "metadata": {},
   "outputs": [
    {
     "name": "stdout",
     "output_type": "stream",
     "text": [
      "no se recomienda  la venta de este producto en este pais \n"
     ]
    },
    {
     "name": "stderr",
     "output_type": "stream",
     "text": [
      "C:\\Users\\User\\AppData\\Local\\Temp\\ipykernel_428\\2596365393.py:3: SettingWithCopyWarning: \n",
      "A value is trying to be set on a copy of a slice from a DataFrame.\n",
      "Try using .loc[row_indexer,col_indexer] = value instead\n",
      "\n",
      "See the caveats in the documentation: https://pandas.pydata.org/pandas-docs/stable/user_guide/indexing.html#returning-a-view-versus-a-copy\n",
      "  datos[\"predict_esperanza\"]= predictions_test\n"
     ]
    }
   ],
   "source": [
    "\n",
    "lista2 =[\"year\",\"pais\",\"country\",\"esperanza_vida_nacer_Mujeres\",]\n",
    "datos= test_date[lista2]\n",
    "datos[\"predict_esperanza\"]= predictions_test\n",
    "datos_esp = datos[datos['pais'] ==\"Nigeria\"]\n",
    "Total = datos_esp['predict_esperanza'].sum()\n",
    "if Total == 0 :\n",
    "    print(\"no se recomienda  la venta de este producto en este pais \")\n",
    "else:\n",
    "    print(\"si se recomienda  la venta de este producto en este pais \")"
   ]
  },
  {
   "cell_type": "markdown",
   "metadata": {},
   "source": [
    "PREDICCION CON  Japon"
   ]
  },
  {
   "cell_type": "code",
   "execution_count": 173,
   "metadata": {},
   "outputs": [
    {
     "name": "stdout",
     "output_type": "stream",
     "text": [
      "si se recomienda  la venta de este producto en este pais \n"
     ]
    }
   ],
   "source": [
    "\n",
    "\n",
    "datos_esp = datos[datos['pais'] ==\"Finland\"]\n",
    "datos_esp[[\"pais\",\"predict_esperanza\"]]\n",
    "Total = datos_esp['predict_esperanza'].sum()\n",
    "\n",
    "if Total == 0 :\n",
    "    print(\"no se recomienda  la venta de este producto en este pais \")\n",
    "else:\n",
    "    print(\"si se recomienda  la venta de este producto en este pais \")"
   ]
  },
  {
   "cell_type": "code",
   "execution_count": 174,
   "metadata": {},
   "outputs": [],
   "source": [
    "#"
   ]
  }
 ],
 "metadata": {
  "kernelspec": {
   "display_name": "Python 3.9.7 64-bit",
   "language": "python",
   "name": "python3"
  },
  "language_info": {
   "codemirror_mode": {
    "name": "ipython",
    "version": 3
   },
   "file_extension": ".py",
   "mimetype": "text/x-python",
   "name": "python",
   "nbconvert_exporter": "python",
   "pygments_lexer": "ipython3",
   "version": "3.9.7"
  },
  "orig_nbformat": 4,
  "vscode": {
   "interpreter": {
    "hash": "cf92aa13fedf815d5c8dd192b8d835913fde3e8bc926b2a0ad6cc74ef2ba3ca2"
   }
  }
 },
 "nbformat": 4,
 "nbformat_minor": 2
}
